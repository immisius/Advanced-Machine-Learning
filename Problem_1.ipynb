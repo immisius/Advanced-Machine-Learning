{
  "nbformat": 4,
  "nbformat_minor": 0,
  "metadata": {
    "colab": {
      "name": "Problem 1",
      "provenance": [],
      "collapsed_sections": [],
      "include_colab_link": true
    },
    "kernelspec": {
      "name": "python3",
      "display_name": "Python 3"
    }
  },
  "cells": [
    {
      "cell_type": "markdown",
      "metadata": {
        "id": "view-in-github",
        "colab_type": "text"
      },
      "source": [
        "<a href=\"https://colab.research.google.com/github/immisius/Advanced-Machine-Learning/blob/main/Problem_1.ipynb\" target=\"_parent\"><img src=\"https://colab.research.google.com/assets/colab-badge.svg\" alt=\"Open In Colab\"/></a>"
      ]
    },
    {
      "cell_type": "code",
      "metadata": {
        "id": "fyfdiTizgHzd"
      },
      "source": [
        "# requirements\n",
        "import numpy as np\n",
        "import matplotlib.pyplot as plt\n",
        "import cvxpy as cv"
      ],
      "execution_count": null,
      "outputs": []
    },
    {
      "cell_type": "code",
      "source": [
        ""
      ],
      "metadata": {
        "id": "qI8eMMt1np3h"
      },
      "execution_count": null,
      "outputs": []
    },
    {
      "cell_type": "markdown",
      "metadata": {
        "id": "GWpRlNgofk-W"
      },
      "source": [
        "# Datasets"
      ]
    },
    {
      "cell_type": "code",
      "metadata": {
        "id": "nw9srB9Q8gsO"
      },
      "source": [
        "# dataset 4\n",
        "n = 200\n",
        "x_d4 = 3 * (np.random.rand(n, 4) - 0.5)\n",
        "y_d4 = (2 * x_d4[:, 0] - 1 * x_d4[:,1] + 0.5 + 0.5 * np.random.randn(n)) > 0\n",
        "y_d4 = 2 * y_d4 -1"
      ],
      "execution_count": null,
      "outputs": []
    },
    {
      "cell_type": "code",
      "source": [
        "plt.plot(x_d4[y_d4 < 0, 0],  x_d4[y_d4 < 0, 1], 'bs')\n",
        "plt.plot(x_d4[y_d4 > 0, 0],  x_d4[y_d4 > 0, 1], 'ro')"
      ],
      "metadata": {
        "colab": {
          "base_uri": "https://localhost:8080/",
          "height": 282
        },
        "id": "a49HqE6uN2Kp",
        "outputId": "d5014442-47fe-4ce6-f7cc-c88a2f477477"
      },
      "execution_count": null,
      "outputs": [
        {
          "output_type": "execute_result",
          "data": {
            "text/plain": [
              "[<matplotlib.lines.Line2D at 0x7f351c491ed0>]"
            ]
          },
          "metadata": {},
          "execution_count": 33
        },
        {
          "output_type": "display_data",
          "data": {
            "text/plain": [
              "<Figure size 432x288 with 1 Axes>"
            ],
            "image/png": "[encoded data removed]"
          },
          "metadata": {
            "needs_background": "light"
          }
        }
      ]
    },
    {
      "cell_type": "code",
      "source": [
        "# dataset 5\n",
        "n = 200\n",
        "x_d5 = 3 * (np.random.rand(n, 4) - 0.5)\n",
        "W = np.array([[ 2,  -1, 0.5,],\n",
        "              [-3,   2,   1,],\n",
        "              [ 1,   2,   3]])\n",
        "y_d5 = np.argmax(np.dot(np.hstack([x_d5[:,:2], np.ones((n, 1))]), W.T)\n",
        "                        + 0.5 * np.random.randn(n, 3), axis=1)"
      ],
      "metadata": {
        "id": "cYiALXFSnqmX"
      },
      "execution_count": null,
      "outputs": []
    },
    {
      "cell_type": "markdown",
      "metadata": {
        "id": "IrhDZAmp8DlM"
      },
      "source": [
        "# Problem 1"
      ]
    },
    {
      "cell_type": "code",
      "metadata": {
        "id": "xONF7HSY8B_R"
      },
      "source": [
        "# requirement\n",
        "import numpy as np\n",
        "import matplotlib.pyplot as plt\n",
        "import cvxpy"
      ],
      "execution_count": null,
      "outputs": []
    },
    {
      "cell_type": "code",
      "metadata": {
        "id": "Z8Zc2Z5u-NTp"
      },
      "source": [
        "x_d4_1=np.concatenate([x_d4,np.array([1.0 for i in range(len(x_d4))]).reshape(len(x_d4),1)],1)\n",
        "loss_hist_batch = [] # to store the history of loss J(w_t)\n",
        "L=1e-1\n",
        "lda=1.5\n",
        "n=100\n",
        "# implement batch steepest gradient method here\n",
        "def J(w_t):\n",
        "  res=lda*w_t@w_t.T\n",
        "  for i in range(n):\n",
        "    res+=np.log(1+np.exp(-y_d4[i]*w_t@x_d4_1[i].T))\n",
        "  return res\n",
        "\n",
        "wt=np.array([1.0 for i in range(5)])\n",
        "loss_hist_batch.append(J(wt))\n",
        "while True:\n",
        "  before=J(wt)\n",
        "  djdw=2*lda*wt\n",
        "  for i in range(n):\n",
        "    djdw+=np.exp(-y_d4[i]*wt@x_d4_1[i].T)/(1+np.exp(-y_d4[i]*wt@x_d4_1[i].T))*(-y_d4[i]*x_d4_1[i])\n",
        "  d=-djdw\n",
        "  wt+=L*d\n",
        "  after=J(wt)\n",
        "  loss_hist_batch.append(after)\n",
        "  if abs(after-before)<=1e-2:\n",
        "    break"
      ],
      "execution_count": null,
      "outputs": []
    },
    {
      "cell_type": "code",
      "metadata": {
        "id": "X42JKvHsDptm"
      },
      "source": [
        "x_d4_1=np.concatenate([x_d4,np.array([1.0 for i in range(len(x_d4))]).reshape(len(x_d4),1)],1)\n",
        "loss_hist_newton = [] # to store the history of loss J(w_t)\n",
        "lda=1.5\n",
        "n=100\n",
        "# implement Newton based method here\n",
        "def J(w_t):\n",
        "  res=lda*w_t@w_t.T\n",
        "  for i in range(n):\n",
        "    res+=np.log(1+np.exp(-y_d4[i]*w_t@x_d4_1[i].T))\n",
        "  return res\n",
        "\n",
        "wt=np.array([1.0 for i in range(5)])\n",
        "loss_hist_newton.append(J(wt))\n",
        "while True:\n",
        "  before=J(wt)\n",
        "  djdw=2*lda*wt\n",
        "  for i in range(n):\n",
        "    djdw+=np.exp(-y_d4[i]*wt@x_d4_1[i].T)/(1+np.exp(-y_d4[i]*wt@x_d4_1[i].T))*(-y_d4[i]*x_d4_1[i])\n",
        "  d2jdw2=2*lda*np.ones([5,5])\n",
        "  for i in range(n):\n",
        "    d2jdw2+=(np.exp(-y_d4[i]*wt@x_d4_1[i].T)/(1+np.exp(-y_d4[i]*wt@x_d4_1[i].T))**2)*y_d4[i]**2*x_d4_1[i].reshape(5,1)@x_d4_1[i].reshape(1,5)\n",
        "  d=-(np.linalg.inv(d2jdw2)@djdw.reshape(-1,1)).squeeze()\n",
        "  wt+=d\n",
        "  after=J(wt)\n",
        "  loss_hist_newton.append(after)\n",
        "  if abs(after-before)<=1e-2:\n",
        "    break"
      ],
      "execution_count": null,
      "outputs": []
    },
    {
      "cell_type": "code",
      "metadata": {
        "id": "p1dl5DU_9p5m",
        "colab": {
          "base_uri": "https://localhost:8080/",
          "height": 282
        },
        "outputId": "de1c8e74-1345-49cc-c3c4-2a35d4b6ca2e"
      },
      "source": [
        "# plot the result\n",
        "plt.plot(loss_hist_batch,label='steepest gradient')\n",
        "plt.plot(loss_hist_newton,label='Newton')\n",
        "plt.yscale('log')\n",
        "plt.legend()"
      ],
      "execution_count": null,
      "outputs": [
        {
          "output_type": "execute_result",
          "data": {
            "text/plain": [
              "<matplotlib.legend.Legend at 0x7f351c463550>"
            ]
          },
          "metadata": {},
          "execution_count": 39
        },
        {
          "output_type": "display_data",
          "data": {
            "text/plain": [
              "<Figure size 432x288 with 1 Axes>"
            ],
            "image/png": "[encoded data removed]"
          },
          "metadata": {
            "needs_background": "light"
          }
        }
      ]
    },
    {
      "cell_type": "code",
      "source": [
        "x_d5_1=np.concatenate([x_d5,np.array([1.0 for i in range(len(x_d5))]).reshape(len(x_d5),1)],1)\n",
        "n=200\n",
        "loss_hist_batch = [] # to store the history of loss J(w_t)\n",
        "# def l(W):\n",
        "#   res=0\n",
        "#   for i in range(n):\n",
        "#     res-=W[y_d5[i]]@x_d5_1[i]\n",
        "#     res+=np.max([W[c]@x_d5_1[i] for c in range(3)])\n",
        "#   return res\n",
        "lda=0.1\n",
        "def l(W):\n",
        "  res=lda*sum([W[c]@W[c] for c in range(3)])\n",
        "  for i in range(n):\n",
        "    res-=W[y_d5[i]]@x_d5_1[i]\n",
        "    res+=np.log(sum([np.exp(W[c]@x_d5_1[i]) for c in range(3)]))\n",
        "  return res\n",
        "Wt=np.array([-i*0.5 for i in range(3*5)]).reshape(3,5).astype(float)\n",
        "loss_hist_batch.append(l(Wt))\n",
        "L=1e-3\n",
        "while True:\n",
        "  before=l(Wt)\n",
        "  dldw=np.zeros([3,5])\n",
        "  for i in range(3):\n",
        "    dldw[i]=2*lda*Wt[i]\n",
        "  for i in range(n):\n",
        "    dldw[y_d5[i]]+=-x_d5_1[i]\n",
        "    dldw[y_d5[i]]+=np.exp(Wt[y_d5[i]]@x_d5_1[i])/(sum([np.exp(Wt[c]@x_d5_1[i]) for c in range(3)]))*x_d5_1[i]\n",
        "  d=-dldw\n",
        "  Wt+=L*d\n",
        "  after=l(Wt)\n",
        "  loss_hist_batch.append(after)\n",
        "  if abs(after-before)<=1e-2 or after>before:\n",
        "    break"
      ],
      "metadata": {
        "id": "XsBaOyGNyYv5"
      },
      "execution_count": null,
      "outputs": []
    },
    {
      "cell_type": "code",
      "source": [
        "x_d5_1=np.concatenate([x_d5,np.array([1.0 for i in range(len(x_d5))]).reshape(len(x_d5),1)],1)\n",
        "n=len(x_d5_1)\n",
        "loss_hist_newton = [] # to store the history of loss J(w_t)\n",
        "def l(W):\n",
        "  res=0\n",
        "  for i in range(n):\n",
        "    res-=W[y_d5[i]]@x_d5_1[i]\n",
        "    res+=np.log(sum([np.exp(W[c]@x_d5_1[i]) for c in range(3)]))\n",
        "  return res\n",
        "lda=0.1\n",
        "j=0\n",
        "Wt=np.array([-i*0.5 for i in range(3*5)]).reshape(3,5).astype(float)\n",
        "loss_hist_newton.append(l(Wt))\n",
        "L=1\n",
        "while True:\n",
        "  before=l(Wt)\n",
        "  dldw=np.zeros([3,5])\n",
        "  for i in range(3):\n",
        "    dldw[i]=2*lda*Wt[i]\n",
        "  for i in range(n):\n",
        "    dldw[y_d5[i]]+=-x_d5_1[i]\n",
        "    sumc=sum([np.exp(Wt[c]@x_d5_1[i])for c in range(3)])\n",
        "    dldw[y_d5[i]]+=np.exp(Wt[y_d5[i]]@x_d5_1[i])/(sumc)*x_d5_1[i]\n",
        "  d2ldw2=np.ones([3,5,5])*2*lda\n",
        "  for i in range(n):\n",
        "    sumc=sum([np.exp(Wt[c]@x_d5_1[i])for c in range(3)])\n",
        "    square=(x_d5_1[i].reshape(5,1))@(x_d5_1[i].reshape(1,5))\n",
        "    exp_sum=np.exp(Wt[y_d5[i]]@x_d5_1[i])/sumc\n",
        "    d2ldw2[y_d5[i]]+=(1-exp_sum)*exp_sum*square\n",
        "  for i in range(3):\n",
        "    d=-(np.linalg.inv(d2ldw2[i])@(dldw[i].reshape(-1,1))).squeeze()\n",
        "    Wt[i]+=L*d\n",
        "  after=l(Wt)\n",
        "  loss_hist_newton.append(after)\n",
        "  if abs(after-before)<=1e-2 or after>before:\n",
        "    break"
      ],
      "metadata": {
        "id": "bxUaSHPrKcvt"
      },
      "execution_count": null,
      "outputs": []
    },
    {
      "cell_type": "code",
      "source": [
        "  loss_hist_newton"
      ],
      "metadata": {
        "colab": {
          "base_uri": "https://localhost:8080/"
        },
        "id": "Knoq8yOYLFYq",
        "outputId": "7c41b652-8e40-4099-8aa3-29b5680c540e"
      },
      "execution_count": null,
      "outputs": [
        {
          "output_type": "execute_result",
          "data": {
            "text/plain": [
              "[1262.1195543412036, 8746.21774981064]"
            ]
          },
          "metadata": {},
          "execution_count": 42
        }
      ]
    },
    {
      "cell_type": "code",
      "source": [
        "# plot the result\n",
        "plt.plot(loss_hist_batch,label='steepest gradient')\n",
        "plt.plot(loss_hist_newton,label='Newton')\n",
        "plt.legend()"
      ],
      "metadata": {
        "colab": {
          "base_uri": "https://localhost:8080/",
          "height": 282
        },
        "id": "ekj9qUcpE9t4",
        "outputId": "0494c30c-1520-4fa7-9b05-c771ba024c20"
      },
      "execution_count": null,
      "outputs": [
        {
          "output_type": "execute_result",
          "data": {
            "text/plain": [
              "<matplotlib.legend.Legend at 0x7f351c2ff110>"
            ]
          },
          "metadata": {},
          "execution_count": 43
        },
        {
          "output_type": "display_data",
          "data": {
            "text/plain": [
              "<Figure size 432x288 with 1 Axes>"
            ],
            "image/png": "[encoded data removed]"
          },
          "metadata": {
            "needs_background": "light"
          }
        }
      ]
    }
  ]
}