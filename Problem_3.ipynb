{
  "nbformat": 4,
  "nbformat_minor": 0,
  "metadata": {
    "colab": {
      "name": "Problem 3",
      "provenance": [],
      "collapsed_sections": [],
      "include_colab_link": true
    },
    "kernelspec": {
      "name": "python3",
      "display_name": "Python 3"
    }
  },
  "cells": [
    {
      "cell_type": "markdown",
      "metadata": {
        "id": "view-in-github",
        "colab_type": "text"
      },
      "source": [
        "<a href=\"https://colab.research.google.com/github/immisius/Advanced-Machine-Learning/blob/main/Problem_3.ipynb\" target=\"_parent\"><img src=\"https://colab.research.google.com/assets/colab-badge.svg\" alt=\"Open In Colab\"/></a>"
      ]
    },
    {
      "cell_type": "code",
      "metadata": {
        "id": "lPxW48vUaQED",
        "colab": {
          "base_uri": "https://localhost:8080/",
          "height": 282
        },
        "outputId": "fcc38ea5-2c95-478a-e6d2-34ccc2bd5880"
      },
      "source": [
        "# requirement\n",
        "import numpy as np\n",
        "import matplotlib.pyplot as plt\n",
        "import cvxpy as cv\n",
        "\n",
        "# prepare dataset\n",
        "np.random.seed(3846)\n",
        "n = 40\n",
        "omega = np.random.randn()\n",
        "noise = 0.8 * np.random.randn(n)\n",
        "\n",
        "x = np.random.randn(n, 2) + 0\n",
        "y = 2 * (omega * x[:,0] + x[:,1] + noise > 0) - 1\n",
        "\n",
        "plt.plot(np.extract(y>0,x[:,0]),np.extract(y>0,x[:,1]), 'x')\n",
        "plt.plot(np.extract(y<0,x[:,0]),np.extract(y<0,x[:,1]), 'o')"
      ],
      "execution_count": 1,
      "outputs": [
        {
          "output_type": "execute_result",
          "data": {
            "text/plain": [
              "[<matplotlib.lines.Line2D at 0x7f7e2a73b710>]"
            ]
          },
          "metadata": {},
          "execution_count": 1
        },
        {
          "output_type": "display_data",
          "data": {
            "text/plain": [
              "<Figure size 432x288 with 1 Axes>"
            ],
            "image/png": "[encoded data removed]"
          },
          "metadata": {
            "needs_background": "light"
          }
        }
      ]
    },
    {
      "cell_type": "code",
      "source": [
        "def hinge(w):\n",
        "  res=lam*(w.T@w).item()\n",
        "  for i in range(len(x)):\n",
        "    res+=max(0,1-y[i]*w.T@x[i])\n",
        "  return res"
      ],
      "metadata": {
        "id": "lalDuhtkElpY"
      },
      "execution_count": 2,
      "outputs": []
    },
    {
      "cell_type": "code",
      "source": [
        "def dual_L(a):\n",
        "  return  (-1/(4*lam)*a.T@K@a+sum(a)).squeeze().item()"
      ],
      "metadata": {
        "id": "NU4QxgcBGBAA"
      },
      "execution_count": 3,
      "outputs": []
    },
    {
      "cell_type": "code",
      "source": [
        "def n_dual_L(a):\n",
        "  return -dual_L(a)"
      ],
      "metadata": {
        "id": "SeesZIY0IKrs"
      },
      "execution_count": 4,
      "outputs": []
    },
    {
      "cell_type": "code",
      "source": [
        "a=np.full([x.shape[0],1],0)\n",
        "lam=5\n",
        "yTx=np.array([y,y]).T*x\n",
        "K=yTx@yTx.T\n",
        "eta=1/max(np.real(np.linalg.eig(2*K)[0]))\n",
        "dualL=[]\n",
        "hinge_hist=[]\n",
        "while True:\n",
        "  new_a=a-eta*(1/(2*lam)*K@a-np.ones([len(a),1]))\n",
        "  for i in range(len(new_a)):\n",
        "    if new_a[i] >= 1:\n",
        "      new_a[i]=1\n",
        "    if new_a[i]<0:\n",
        "      new_a[i]=0\n",
        "  dualL.append(dual_L(a))\n",
        "  w=np.zeros(x.shape[1])\n",
        "  for i in range(len(x)):\n",
        "    w+=a[i]*y[i]*x[i]\n",
        "  w/=2*lam\n",
        "  hinge_hist.append(hinge(w.T))\n",
        "  if abs(n_dual_L(a)-n_dual_L(new_a))<=1e-2:\n",
        "    break\n",
        "  a=new_a"
      ],
      "metadata": {
        "id": "bDCrD44UIkGT"
      },
      "execution_count": 5,
      "outputs": []
    },
    {
      "cell_type": "code",
      "source": [
        "plt.plot(dualL)"
      ],
      "metadata": {
        "colab": {
          "base_uri": "https://localhost:8080/",
          "height": 282
        },
        "id": "ZlZ5tXoFNZzz",
        "outputId": "dbf9f564-1570-486a-fb9b-868b97ad8493"
      },
      "execution_count": 6,
      "outputs": [
        {
          "output_type": "execute_result",
          "data": {
            "text/plain": [
              "[<matplotlib.lines.Line2D at 0x7f7e2a234290>]"
            ]
          },
          "metadata": {},
          "execution_count": 6
        },
        {
          "output_type": "display_data",
          "data": {
            "text/plain": [
              "<Figure size 432x288 with 1 Axes>"
            ],
            "image/png": "[encoded data removed]"
          },
          "metadata": {
            "needs_background": "light"
          }
        }
      ]
    },
    {
      "cell_type": "code",
      "source": [
        "plt.plot(hinge_hist)"
      ],
      "metadata": {
        "colab": {
          "base_uri": "https://localhost:8080/",
          "height": 282
        },
        "id": "GezT7OTvOUhD",
        "outputId": "640321e3-79a0-40a8-c409-2d02545a8595"
      },
      "execution_count": 7,
      "outputs": [
        {
          "output_type": "execute_result",
          "data": {
            "text/plain": [
              "[<matplotlib.lines.Line2D at 0x7f7e2a1848d0>]"
            ]
          },
          "metadata": {},
          "execution_count": 7
        },
        {
          "output_type": "display_data",
          "data": {
            "text/plain": [
              "<Figure size 432x288 with 1 Axes>"
            ],
            "image/png": "[encoded data removed]"
          },
          "metadata": {
            "needs_background": "light"
          }
        }
      ]
    },
    {
      "cell_type": "code",
      "source": [
        "plt.plot(hinge_hist)\n",
        "plt.plot(dualL)"
      ],
      "metadata": {
        "id": "nAoR7uQIpPyj",
        "outputId": "7c00330e-a817-4d07-d57b-dda66a01c9c6",
        "colab": {
          "base_uri": "https://localhost:8080/",
          "height": 282
        }
      },
      "execution_count": 8,
      "outputs": [
        {
          "output_type": "execute_result",
          "data": {
            "text/plain": [
              "[<matplotlib.lines.Line2D at 0x7f7e2a117990>]"
            ]
          },
          "metadata": {},
          "execution_count": 8
        },
        {
          "output_type": "display_data",
          "data": {
            "text/plain": [
              "<Figure size 432x288 with 1 Axes>"
            ],
            "image/png": "[encoded data removed]"
          },
          "metadata": {
            "needs_background": "light"
          }
        }
      ]
    }
  ]
}