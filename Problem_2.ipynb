{
  "nbformat": 4,
  "nbformat_minor": 0,
  "metadata": {
    "colab": {
      "name": "Problem 2",
      "provenance": [],
      "collapsed_sections": [],
      "include_colab_link": true
    },
    "kernelspec": {
      "name": "python3",
      "display_name": "Python 3"
    }
  },
  "cells": [
    {
      "cell_type": "markdown",
      "metadata": {
        "id": "view-in-github",
        "colab_type": "text"
      },
      "source": [
        "<a href=\"https://colab.research.google.com/github/immisius/Advanced-Machine-Learning/blob/main/Problem_2.ipynb\" target=\"_parent\"><img src=\"https://colab.research.google.com/assets/colab-badge.svg\" alt=\"Open In Colab\"/></a>"
      ]
    },
    {
      "cell_type": "markdown",
      "metadata": {
        "id": "9chhWc7rED2V"
      },
      "source": [
        "# Problem 2"
      ]
    },
    {
      "cell_type": "code",
      "metadata": {
        "id": "GSdaa2W0EIRY"
      },
      "source": [
        "# requirement\n",
        "import numpy as np\n",
        "import matplotlib.pyplot as plt\n",
        "import cvxpy as cv"
      ],
      "execution_count": 35,
      "outputs": []
    },
    {
      "cell_type": "code",
      "metadata": {
        "id": "VN3vN0ddEKfq"
      },
      "source": [
        "# condition\n",
        "A = np.array([[  3, 0.5],\n",
        "              [0.5,   1]])\n",
        "mu = np.array([[1],\n",
        "               [2]])"
      ],
      "execution_count": 36,
      "outputs": []
    },
    {
      "cell_type": "code",
      "source": [
        "eig_v,v=np.linalg.eig(2*A)\n",
        "L=max(eig_v)"
      ],
      "metadata": {
        "id": "ubaIAq2iZFQc"
      },
      "execution_count": 37,
      "outputs": []
    },
    {
      "cell_type": "code",
      "source": [
        "def PSI(w):\n",
        "  return (w-mu).T@A@(w-mu)\n",
        "def OMEGA(w,lam):\n",
        "  return lam*np.linalg.norm(w,ord=1)\n",
        "def O(w,lam):\n",
        "  w=w.reshape(2,-1)\n",
        "  return (PSI(w)+OMEGA(w,lam)).squeeze().item()\n",
        "def nabla_PSI(w):\n",
        "  return 2*A@(w-mu)"
      ],
      "metadata": {
        "id": "vK99Pf2da7BO"
      },
      "execution_count": 38,
      "outputs": []
    },
    {
      "cell_type": "code",
      "metadata": {
        "id": "PuA6fscyEhjC",
        "colab": {
          "base_uri": "https://localhost:8080/",
          "height": 301
        },
        "outputId": "b26789d9-1ca1-4dfb-84d8-7ea668a70a07"
      },
      "source": [
        "w_hat_lam = []\n",
        "O_hat=[]\n",
        "lams = np.arange(0, 10, 0.1)\n",
        "w_hat=np.ones([2,1])\n",
        "for lam in lams:\n",
        "  ### implement PG ###\n",
        "  while True:\n",
        "    next_w=np.zeros([2,1])\n",
        "    for i in range(2):\n",
        "      v=w_hat[i]-sum([2*A[i][j]*(w_hat[j]-mu[j]) for j in range(2)])/L\n",
        "      if v>lam/L:\n",
        "        next_w[i]=v-lam/L\n",
        "      if abs(v)<=lam/L:\n",
        "        next_w[i]=0\n",
        "      if v<-lam/L:\n",
        "        next_w[i]=v+lam/L\n",
        "    if abs(O(w_hat,lam)-O(next_w,lam))==0:\n",
        "      break\n",
        "    w_hat=next_w\n",
        "  w_hat_lam.append(w_hat.squeeze())\n",
        "  O_hat.append(O(w_hat,lam))\n",
        "  ###\n",
        "plt.plot(lams, w_hat_lam)"
      ],
      "execution_count": 39,
      "outputs": [
        {
          "output_type": "execute_result",
          "data": {
            "text/plain": [
              "[<matplotlib.lines.Line2D at 0x7f2530831a90>,\n",
              " <matplotlib.lines.Line2D at 0x7f2530831cd0>]"
            ]
          },
          "metadata": {},
          "execution_count": 39
        },
        {
          "output_type": "display_data",
          "data": {
            "text/plain": [
              "<Figure size 432x288 with 1 Axes>"
            ],
            "image/png": "[encoded data removed]"
          },
          "metadata": {
            "needs_background": "light"
          }
        }
      ]
    },
    {
      "cell_type": "code",
      "source": [
        "# cvx\n",
        "w_hat_lam_cvx=[]\n",
        "O_hat_cvx=[]\n",
        "for lam in lams:\n",
        "  w_lasso = cv.Variable((2,1))\n",
        "  obj_fn = cv.quad_form(w_lasso - mu, A) +  lam * cv.norm(w_lasso, 1)\n",
        "  objective = cv.Minimize(obj_fn)\n",
        "  constraints = []\n",
        "  prob = cv.Problem(objective, constraints)\n",
        "  result = prob.solve(solver=cv.CVXOPT) \n",
        "  w_lasso = w_lasso.value\n",
        "  w_hat_lam_cvx.append(w_lasso.squeeze())\n",
        "  O_hat_cvx.append(O(w_lasso,lam))\n",
        "plt.plot(lams, w_hat_lam_cvx)"
      ],
      "metadata": {
        "colab": {
          "base_uri": "https://localhost:8080/",
          "height": 301
        },
        "id": "II7tIkZItaBg",
        "outputId": "0fedaddb-00e4-4ea4-8fcb-6cbbbdcc9106"
      },
      "execution_count": 40,
      "outputs": [
        {
          "output_type": "execute_result",
          "data": {
            "text/plain": [
              "[<matplotlib.lines.Line2D at 0x7f253076eb50>,\n",
              " <matplotlib.lines.Line2D at 0x7f253076ed90>]"
            ]
          },
          "metadata": {},
          "execution_count": 40
        },
        {
          "output_type": "display_data",
          "data": {
            "text/plain": [
              "<Figure size 432x288 with 1 Axes>"
            ],
            "image/png": "[encoded data removed]"
          },
          "metadata": {
            "needs_background": "light"
          }
        }
      ]
    },
    {
      "cell_type": "code",
      "source": [
        ""
      ],
      "metadata": {
        "id": "Tuo2VRiz_jUV"
      },
      "execution_count": 40,
      "outputs": []
    }
  ]
}